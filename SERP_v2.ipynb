{
 "cells": [
  {
   "cell_type": "code",
   "execution_count": null,
   "id": "2e61ae74",
   "metadata": {},
   "outputs": [],
   "source": [
    "import time\n",
    "import csv\n",
    "from selenium import webdriver\n",
    "from selenium.webdriver.chrome.options import Options\n",
    "from selenium.webdriver.chrome.service import Service\n",
    "from webdriver_manager.chrome import ChromeDriverManager\n",
    "from selenium.webdriver.common.by import By\n",
    "from selenium.common.exceptions import TimeoutException\n",
    "from selenium.webdriver.support import expected_conditions\n",
    "from selenium.webdriver.support.ui import WebDriverWait"
   ]
  },
  {
   "cell_type": "code",
   "execution_count": null,
   "id": "5efc2a71",
   "metadata": {},
   "outputs": [],
   "source": [
    "options=Options()\n",
    "options.add_experimental_option(\"excludeSwitches\", [\"enable-automation\"])\n",
    "options.add_experimental_option('useAutomationExtension', False)\n",
    "options.add_experimental_option(\"detach\",True)\n",
    "driver= webdriver.Chrome(service=Service(ChromeDriverManager().install()), options=options)"
   ]
  },
  {
   "cell_type": "code",
   "execution_count": null,
   "id": "45d6c9ef",
   "metadata": {},
   "outputs": [],
   "source": [
    "glink= \"https://www.google.com/search?q=site:youtube.com+openinapp.co&num=100&filter=0&start=\"\n",
    "c=0\n",
    "urls=[]\n",
    "prev=len(urls)\n",
    "timeout=35"
   ]
  },
  {
   "cell_type": "code",
   "execution_count": null,
   "id": "38ad634d",
   "metadata": {},
   "outputs": [],
   "source": [
    "while(prev<10000):\n",
    "    driver.get(glink+str(c))\n",
    "\n",
    "    if not (len(driver.find_elements(By.ID, \"OotqVd\"))==0):\n",
    "        break\n",
    "    \n",
    "    try:\n",
    "        element_present = expected_conditions.presence_of_element_located((By.CLASS_NAME, \"DhN8Cf\"))\n",
    "        WebDriverWait(driver, timeout).until(element_present)\n",
    "    except TimeoutError:\n",
    "        break\n",
    "\n",
    "    for element in driver.find_elements(By.CLASS_NAME, \"DhN8Cf\"):\n",
    "        url= element.find_element(By.TAG_NAME, 'a').get_attribute('href')\n",
    "        if 'hashtag' not in url:\n",
    "            urls.append(url)\n",
    "    for element in driver.find_elements(By.CLASS_NAME, \"yuRUbf\"):\n",
    "        url= element.find_element(By.TAG_NAME, 'a').get_attribute('href')    \n",
    "        if 'hashtag' not in url:\n",
    "            urls.append(url)\n",
    "    cur=len(urls)\n",
    "    print(cur)\n",
    "    if(cur>prev):\n",
    "        prev=len(urls)\n",
    "    else:\n",
    "        break\n",
    "    c+=100\n",
    "\n",
    "print(\"FINAL: \", len(urls))"
   ]
  },
  {
   "cell_type": "code",
   "execution_count": null,
   "id": "7642e2ef",
   "metadata": {},
   "outputs": [],
   "source": [
    "for url in urls:\n",
    "    driver.get(url)\n",
    "    time.sleep(1)\n",
    "    \n",
    "    try:\n",
    "        if 'https://www.youtube.com/c/' in url:\n",
    "            link=url.replace('c/','').replace('/community','')\n",
    "\n",
    "        elif 'https://www.youtube.com/watch?' in url:\n",
    "            link= driver.find_element('xpath', \"//ytd-video-owner-renderer[@class='style-scope ytd-watch-metadata']//a[@class='yt-simple-endpoint style-scope ytd-video-owner-renderer']\").get_attribute(\"href\")\n",
    "\n",
    "        elif 'https://www.youtube.com/post/' in url:\n",
    "            link= driver.find_element(By.CLASS_NAME, \"style-scope ytd-backstage-post-renderer\").find_element('xpath', \".//a[@class='yt-simple-endpoint style-scope ytd-backstage-post-renderer']\").get_attribute(\"href\")\n",
    "\n",
    "        elif 'https://www.youtube.com/channel/' in url:\n",
    "            url='https://www.youtube.com/channel/'+ url.split('channel/')[1].split('/')[0]\n",
    "            driver.get(url)\n",
    "            handle= driver.find_element(By.XPATH, \"//div[@id='meta']//span//yt-formatted-string[@id='channel-handle']\").get_attribute('innerHTML')\n",
    "            handle=handle.replace('@','')\n",
    "            link='https://www.youtube.com/'+handle\n",
    "        else:\n",
    "            print(link)\n",
    "            outlier.append(link)\n",
    "            \n",
    "        channel_urls.append(link)\n",
    "    except:\n",
    "        continue"
   ]
  },
  {
   "cell_type": "code",
   "execution_count": null,
   "id": "492ed18b",
   "metadata": {},
   "outputs": [],
   "source": [
    "channels=[]\n",
    "for url in channel_urls:\n",
    "    url=url.replace('?app=desktop', '')\n",
    "    url=url.replace('@', '')\n",
    "    channels.append(url.split('com/')[1])\n",
    "len(channels)"
   ]
  },
  {
   "cell_type": "code",
   "execution_count": null,
   "id": "f32d14f5",
   "metadata": {},
   "outputs": [],
   "source": [
    "unique= list(set(channels))\n",
    "pairs=[]\n",
    "for i,name in enumerate(unique):\n",
    "    pair=[]\n",
    "    pair.append(name)\n",
    "    pair.append('https://www.youtube.com/'+name)\n",
    "    pairs.append(pair)\n",
    "    \n",
    "fields=['Channel Name', 'Channel Link']\n",
    "\n",
    "\n",
    "with open('output.csv', 'w') as csvfile:\n",
    "    csvwriter = csv.writer(csvfile)\n",
    "    csvwriter.writerow(fields)\n",
    "    csvwriter.writerows(pairs)"
   ]
  }
 ],
 "metadata": {
  "kernelspec": {
   "display_name": "crawler",
   "language": "python",
   "name": "crawler"
  },
  "language_info": {
   "codemirror_mode": {
    "name": "ipython",
    "version": 3
   },
   "file_extension": ".py",
   "mimetype": "text/x-python",
   "name": "python",
   "nbconvert_exporter": "python",
   "pygments_lexer": "ipython3",
   "version": "3.9.13"
  }
 },
 "nbformat": 4,
 "nbformat_minor": 5
}
